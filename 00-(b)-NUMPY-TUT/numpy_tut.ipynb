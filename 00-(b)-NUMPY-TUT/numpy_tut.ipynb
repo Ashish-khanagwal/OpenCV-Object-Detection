{
 "cells": [
  {
   "cell_type": "code",
   "execution_count": 3,
   "id": "16b30818-8551-4d43-907d-80dbe92b90e2",
   "metadata": {
    "tags": []
   },
   "outputs": [],
   "source": [
    "import numpy as np"
   ]
  },
  {
   "cell_type": "code",
   "execution_count": 4,
   "id": "f2f94624-f66a-4e89-b5e9-896bbb87c33c",
   "metadata": {
    "tags": []
   },
   "outputs": [],
   "source": [
    "my_array = np.arange(8) # this is a way to create array via numpy.\n",
    "# here, '8' will work as a stop point but excluding '8' and by default it'll start from '0'"
   ]
  },
  {
   "cell_type": "code",
   "execution_count": 5,
   "id": "df1534b6-db40-45ac-b19d-58884f550256",
   "metadata": {
    "tags": []
   },
   "outputs": [
    {
     "data": {
      "text/plain": [
       "array([0, 1, 2, 3, 4, 5, 6, 7])"
      ]
     },
     "execution_count": 5,
     "metadata": {},
     "output_type": "execute_result"
    }
   ],
   "source": [
    "my_array"
   ]
  },
  {
   "cell_type": "code",
   "execution_count": 6,
   "id": "91e37517-7175-4b09-86c8-9cc4365ed094",
   "metadata": {
    "tags": []
   },
   "outputs": [
    {
     "name": "stdout",
     "output_type": "stream",
     "text": [
      "<class 'numpy.ndarray'>\n"
     ]
    }
   ],
   "source": [
    "print(type(my_array))"
   ]
  },
  {
   "cell_type": "code",
   "execution_count": 7,
   "id": "d5ca9f55-0168-4a58-8486-872009ccf534",
   "metadata": {
    "tags": []
   },
   "outputs": [
    {
     "data": {
      "text/plain": [
       "array([1, 2, 3, 4, 5, 6, 7])"
      ]
     },
     "execution_count": 7,
     "metadata": {},
     "output_type": "execute_result"
    }
   ],
   "source": [
    "# If we want to not to include 0 in previous example and want to start it with 1, then we can change our starting point from 0 to 1\n",
    "my_array = np.arange(1,8)\n",
    "my_array"
   ]
  },
  {
   "cell_type": "code",
   "execution_count": 8,
   "id": "dea358ff-bc6e-4860-9418-33ee81ea59a1",
   "metadata": {
    "tags": []
   },
   "outputs": [
    {
     "data": {
      "text/plain": [
       "array([1, 3, 5, 7])"
      ]
     },
     "execution_count": 8,
     "metadata": {},
     "output_type": "execute_result"
    }
   ],
   "source": [
    "# And again what if we want to include only odd digits in our output it is also possible and we can done it by specifying something which is called 'steps'\n",
    "my_array = np.arange(1,8,2)\n",
    "my_array"
   ]
  },
  {
   "cell_type": "code",
   "execution_count": 9,
   "id": "da219617-81eb-4825-a105-d82548d7b0b0",
   "metadata": {
    "tags": []
   },
   "outputs": [
    {
     "data": {
      "text/plain": [
       "array([1. , 1.5, 2. , 2.5, 3. , 3.5, 4. , 4.5, 5. , 5.5, 6. , 6.5, 7. ,\n",
       "       7.5])"
      ]
     },
     "execution_count": 9,
     "metadata": {},
     "output_type": "execute_result"
    }
   ],
   "source": [
    "# So, here we can say that with np.arange method contains (start, stop, step) and it can be verified from our previous example and one more see below\n",
    "my_array = np.arange(1,8,0.5) # it will give us whole number in our output\n",
    "my_array "
   ]
  },
  {
   "cell_type": "code",
   "execution_count": 10,
   "id": "0c59be5e-8b8f-46a7-9737-c72c0270515e",
   "metadata": {},
   "outputs": [
    {
     "name": "stdout",
     "output_type": "stream",
     "text": [
      "<class 'numpy.int64'>\n",
      "<class 'numpy.int8'>\n"
     ]
    }
   ],
   "source": [
    "# THERE ARE SEVERAL OTHER WAYTS TO FORM LISTs AND ONE OF THEM WE'VE ALREADY SEEN AND ANOTHER METHOD OF CREATING ARRAY IS CONVERTING ALREADY EXISTED LISTS INTO ARRAY\n",
    "# Look down and see how it can be done\n",
    "new_array = np.array([1,2,3])\n",
    "# List can store vaiour types of data, it simply means lists are really very flexible but the only drawback is that Lists waste large amount of resources, and decreases memory efficiency\n",
    "# but converting lists into numpy arrays takes required memory or the memory which we specify.\n",
    "print(type(new_array[0])) # here, we can see that it will takes up '64' bits of memory which is not necessary anymore we can specify memory over here and it will work the same\n",
    "\n",
    "# So basically we have to convert our decimals to binary to manage it to take less memory\n",
    "new_array = np.array([1,2,3], dtype = np.int8)\n",
    "print(type(new_array[0])) # Now here, we'll find out that it will take only '8' bits memory"
   ]
  },
  {
   "cell_type": "code",
   "execution_count": 57,
   "id": "e787560a-1c30-4c4e-aebe-8f9abc2cf4e6",
   "metadata": {
    "tags": []
   },
   "outputs": [],
   "source": [
    "# 2D array\n",
    "# Creating 2-D arrays are way similar and simple as creating 1-D arrays, See below\n",
    "tod_array = np.array([[1,2,3], [4,5,6]], dtype = np.int8)\n",
    "# tod_array # This is one way to create 2-D arrays"
   ]
  },
  {
   "cell_type": "code",
   "execution_count": 58,
   "id": "8e95a261-6d27-4e85-ba45-ef21ea8f9ef4",
   "metadata": {},
   "outputs": [
    {
     "name": "stdout",
     "output_type": "stream",
     "text": [
      "shape of array is:  (2, 4)\n"
     ]
    }
   ],
   "source": [
    "# Another way is by using np.arange method\n",
    "array_2d = np.array((np.arange(1,8,2),np.arange(0,8,2)))\n",
    "array_2d\n",
    "print(\"shape of array is: \", array_2d.shape) # output will be (2, 4) 2 - rows and 4 - columns"
   ]
  },
  {
   "cell_type": "code",
   "execution_count": 59,
   "id": "389219be-5159-4f0d-90fd-80963315c74d",
   "metadata": {
    "tags": []
   },
   "outputs": [
    {
     "data": {
      "text/plain": [
       "array([[1, 3],\n",
       "       [5, 7],\n",
       "       [0, 2],\n",
       "       [4, 6]])"
      ]
     },
     "execution_count": 59,
     "metadata": {},
     "output_type": "execute_result"
    }
   ],
   "source": [
    "# We can reshape the array according to our need, it means by swaping number of rows and columns or anything else required to do so\n",
    "array_2d = array_2d.reshape((4,2))\n",
    "array_2d"
   ]
  },
  {
   "cell_type": "code",
   "execution_count": 60,
   "id": "5e6c5b66-c24f-4908-ab9b-38aaf8eabc96",
   "metadata": {},
   "outputs": [
    {
     "data": {
      "text/plain": [
       "array([1, 3, 5, 7, 0, 2, 4, 6])"
      ]
     },
     "execution_count": 60,
     "metadata": {},
     "output_type": "execute_result"
    }
   ],
   "source": [
    "# another example of it\n",
    "array_2d = array_2d.reshape((8,)) # It will create a single row for our 2-D array.\n",
    "array_2d"
   ]
  },
  {
   "cell_type": "code",
   "execution_count": 61,
   "id": "c941ccbe-6a42-40e4-89f6-15fdd0fc8ace",
   "metadata": {
    "tags": []
   },
   "outputs": [
    {
     "data": {
      "text/plain": [
       "array([[5.09925153e-320, 0.00000000e+000, 6.90038354e-310,\n",
       "        6.90038355e-310, 6.90038354e-310],\n",
       "       [6.90038355e-310, 6.90038354e-310, 6.90038443e-310,\n",
       "        6.90038355e-310, 6.90038354e-310],\n",
       "       [6.90038355e-310, 6.90038343e-310, 6.90038355e-310,\n",
       "        6.90038343e-310, 6.90038354e-310],\n",
       "       [6.90038354e-310, 6.90038361e-310, 6.90038354e-310,\n",
       "        6.90038343e-310, 6.90038354e-310]])"
      ]
     },
     "execution_count": 61,
     "metadata": {},
     "output_type": "execute_result"
    }
   ],
   "source": [
    "# Way to print empty arrays\n",
    "emp_arr = np.zeros((2,2)) # generate 0 in whole array\n",
    "emp_arr = np.ones((3,3)) # Generate 1 in whole array\n",
    "emp_arr = np.empty((4,5)) # it will generate an array with ranodm numbers\n",
    "emp_arr"
   ]
  },
  {
   "cell_type": "code",
   "execution_count": 62,
   "id": "e44d7cb8-3329-43c8-b5ef-94758599ca2d",
   "metadata": {},
   "outputs": [
    {
     "data": {
      "text/plain": [
       "array([[0., 1., 0.],\n",
       "       [0., 0., 1.],\n",
       "       [0., 0., 0.]])"
      ]
     },
     "execution_count": 62,
     "metadata": {},
     "output_type": "execute_result"
    }
   ],
   "source": [
    "eye_arr = np.eye(3) # It will create an array with diagnoal elements of value 1\n",
    "eye_arr = np.eye(3, k = 1) # Diagonal will shift up and If 'k = -1' then diagonal will shift one down\n",
    "eye_arr"
   ]
  },
  {
   "cell_type": "code",
   "execution_count": 63,
   "id": "26c89107-2015-4040-9e98-4d044abea8cc",
   "metadata": {
    "tags": []
   },
   "outputs": [
    {
     "data": {
      "text/plain": [
       "array([[2., 7., 2.],\n",
       "       [2., 2., 7.],\n",
       "       [2., 2., 2.]])"
      ]
     },
     "execution_count": 63,
     "metadata": {},
     "output_type": "execute_result"
    }
   ],
   "source": [
    "eye_arr[eye_arr == 0] = 2 # all position with value '0' get replaced by 2\n",
    "eye_arr[eye_arr < 2] = 7 # all values less than 2 get replaced by 7\n",
    "eye_arr"
   ]
  },
  {
   "cell_type": "code",
   "execution_count": 64,
   "id": "3f32f9f7-46dc-48f9-b3aa-931f97249516",
   "metadata": {
    "tags": []
   },
   "outputs": [
    {
     "data": {
      "text/plain": [
       "array([[2., 2., 2.],\n",
       "       [2., 2., 7.],\n",
       "       [2., 2., 2.]])"
      ]
     },
     "execution_count": 64,
     "metadata": {},
     "output_type": "execute_result"
    }
   ],
   "source": [
    "eye_arr[0] = 2 # first row get replace by 3\n",
    "eye_arr"
   ]
  },
  {
   "cell_type": "code",
   "execution_count": 65,
   "id": "39b35d84-af77-4e45-a1ed-65a968b045aa",
   "metadata": {
    "tags": []
   },
   "outputs": [
    {
     "data": {
      "text/plain": [
       "array([[4., 4., 4.],\n",
       "       [4., 4., 4.],\n",
       "       [2., 2., 2.]])"
      ]
     },
     "execution_count": 65,
     "metadata": {},
     "output_type": "execute_result"
    }
   ],
   "source": [
    "eye_arr[:2] = 4 # first two rows get replacd by 3\n",
    "eye_arr"
   ]
  },
  {
   "cell_type": "code",
   "execution_count": 66,
   "id": "1d38188f-bbff-4532-9826-e5b1a532ccae",
   "metadata": {
    "tags": []
   },
   "outputs": [
    {
     "data": {
      "text/plain": [
       "array([[4., 4., 4.],\n",
       "       [7., 7., 7.],\n",
       "       [7., 7., 7.]])"
      ]
     },
     "execution_count": 66,
     "metadata": {},
     "output_type": "execute_result"
    }
   ],
   "source": [
    "eye_arr[1:] = 7 # Last two rows will get replaced by 7\n",
    "eye_arr"
   ]
  },
  {
   "cell_type": "code",
   "execution_count": 67,
   "id": "6dc5534e-c797-400a-9ade-9775b0501ad1",
   "metadata": {
    "tags": []
   },
   "outputs": [
    {
     "data": {
      "text/plain": [
       "array([[5., 4., 4.],\n",
       "       [5., 7., 7.],\n",
       "       [5., 7., 7.]])"
      ]
     },
     "execution_count": 67,
     "metadata": {},
     "output_type": "execute_result"
    }
   ],
   "source": [
    "eye_arr[:, 0] = 5 # first column will get replaced by 5\n",
    "eye_arr"
   ]
  },
  {
   "cell_type": "code",
   "execution_count": 68,
   "id": "a8c9cf4e-84d4-4c3d-9ff6-572923d8daa4",
   "metadata": {
    "tags": []
   },
   "outputs": [
    {
     "data": {
      "text/plain": [
       "array([[5., 4., 8.],\n",
       "       [5., 7., 8.],\n",
       "       [5., 7., 8.]])"
      ]
     },
     "execution_count": 68,
     "metadata": {},
     "output_type": "execute_result"
    }
   ],
   "source": [
    "eye_arr[:, -1] = 8 # last column will get replaced by 8\n",
    "eye_arr"
   ]
  },
  {
   "cell_type": "code",
   "execution_count": 69,
   "id": "1e48d69a-53e0-412f-8fee-11b101b97fc4",
   "metadata": {
    "tags": []
   },
   "outputs": [
    {
     "data": {
      "text/plain": [
       "array([[9., 9., 8.],\n",
       "       [9., 9., 8.],\n",
       "       [5., 7., 8.]])"
      ]
     },
     "execution_count": 69,
     "metadata": {},
     "output_type": "execute_result"
    }
   ],
   "source": [
    "# This is how we can furthur customize our array.\n",
    "eye_arr[:2, :2] = 9\n",
    "eye_arr"
   ]
  },
  {
   "cell_type": "code",
   "execution_count": 70,
   "id": "67b8fe39-2e95-4e76-ae46-cfb529a61b42",
   "metadata": {
    "tags": []
   },
   "outputs": [
    {
     "data": {
      "text/plain": [
       "array([[8., 9., 9.],\n",
       "       [8., 9., 9.],\n",
       "       [5., 7., 8.]])"
      ]
     },
     "execution_count": 70,
     "metadata": {},
     "output_type": "execute_result"
    }
   ],
   "source": [
    "# We also can sort the arrays, see below\n",
    "sorted_arr = np.sort(eye_arr) # This will arrange values in array in a perfect manner (row wise)\n",
    "sorted_arr"
   ]
  },
  {
   "cell_type": "code",
   "execution_count": 71,
   "id": "68c59401-0634-46eb-a9e0-2f436dbe40ee",
   "metadata": {
    "tags": []
   },
   "outputs": [
    {
     "data": {
      "text/plain": [
       "array([[5., 7., 8.],\n",
       "       [9., 9., 8.],\n",
       "       [9., 9., 8.]])"
      ]
     },
     "execution_count": 71,
     "metadata": {},
     "output_type": "execute_result"
    }
   ],
   "source": [
    "sorted_arr = np.sort(eye_arr, axis = 0) # It will sort array column wise\n",
    "sorted_arr"
   ]
  },
  {
   "cell_type": "code",
   "execution_count": 73,
   "id": "a96af93a-29a1-4417-8f14-9dc6e32edcd9",
   "metadata": {
    "tags": []
   },
   "outputs": [
    {
     "name": "stdout",
     "output_type": "stream",
     "text": [
      "[[5. 7. 8.]\n",
      " [9. 9. 8.]\n",
      " [9. 9. 8.]]\n",
      "[[5. 7. 8.]\n",
      " [9. 9. 8.]\n",
      " [9. 9. 8.]]\n"
     ]
    }
   ],
   "source": [
    "# There are two ways to copy an entire array into another.\n",
    "my_view = sorted_arr.view()\n",
    "my_copy = sorted_arr.copy()\n",
    "print(my_view)\n",
    "print(my_copy)"
   ]
  },
  {
   "cell_type": "code",
   "execution_count": 78,
   "id": "4108dadf-9d46-408c-9968-ac691d53f7ab",
   "metadata": {
    "tags": []
   },
   "outputs": [
    {
     "name": "stdout",
     "output_type": "stream",
     "text": [
      "[[5. 5. 5.]\n",
      " [5. 5. 5.]\n",
      " [5. 5. 5.]] \n",
      "\n",
      "[[5. 5. 5.]\n",
      " [5. 5. 5.]\n",
      " [5. 5. 5.]]\n"
     ]
    }
   ],
   "source": [
    "# Why we need both the ways of copying an entire array, is because view() method actually modifies the original array which then affects the furthur results\n",
    "my_view[:] = 5\n",
    "print(my_view, '\\n')\n",
    "print(sorted_arr) # here, you'll find out that original array is also modified that's why we prefer the copy() method to do so"
   ]
  },
  {
   "cell_type": "code",
   "execution_count": 79,
   "id": "8730b641-afda-49c6-b346-669a36c9684f",
   "metadata": {
    "tags": []
   },
   "outputs": [],
   "source": [
    "# Above scenerio works only in case of values not in case of shape, it means if we'll try to change the shape of array then shape of original array won't be affected"
   ]
  }
 ],
 "metadata": {
  "kernelspec": {
   "display_name": "Python 3 (ipykernel)",
   "language": "python",
   "name": "python3"
  },
  "language_info": {
   "codemirror_mode": {
    "name": "ipython",
    "version": 3
   },
   "file_extension": ".py",
   "mimetype": "text/x-python",
   "name": "python",
   "nbconvert_exporter": "python",
   "pygments_lexer": "ipython3",
   "version": "3.10.9"
  }
 },
 "nbformat": 4,
 "nbformat_minor": 5
}
