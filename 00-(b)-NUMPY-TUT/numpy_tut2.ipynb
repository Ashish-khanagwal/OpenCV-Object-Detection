{
 "cells": [
  {
   "cell_type": "code",
   "execution_count": 1,
   "id": "dd5a103a-aa64-4474-8cd1-78be3f2b28f2",
   "metadata": {
    "tags": []
   },
   "outputs": [],
   "source": [
    "import numpy as np"
   ]
  },
  {
   "cell_type": "code",
   "execution_count": 14,
   "id": "82be1455-575f-4ba5-973f-195e417db859",
   "metadata": {
    "tags": []
   },
   "outputs": [
    {
     "name": "stdout",
     "output_type": "stream",
     "text": [
      "int64 \n",
      "\n",
      "[[2 2 2]\n",
      " [2 2 2]\n",
      " [2 2 2]]\n"
     ]
    }
   ],
   "source": [
    "a = np.zeros((3,3), dtype = np.int64) # By using dtype we can change the data type of our array\n",
    "a[:] = 2\n",
    "print(a.dtype, '\\n') # Here, this is of float data type\n",
    "print(a)"
   ]
  },
  {
   "cell_type": "code",
   "execution_count": 15,
   "id": "767e3c81-9d9a-40b7-99e6-32fb1f420eae",
   "metadata": {},
   "outputs": [
    {
     "name": "stdout",
     "output_type": "stream",
     "text": [
      "int64 \n",
      "\n",
      "[[1 2 3]\n",
      " [4 5 6]\n",
      " [7 8 9]]\n"
     ]
    }
   ],
   "source": [
    "b = np.arange(1,10).reshape(3,3)\n",
    "print(b.dtype, '\\n') # And this is of Int data type\n",
    "print(b)"
   ]
  },
  {
   "cell_type": "code",
   "execution_count": 28,
   "id": "fabe5b33-db2f-4f09-97cb-121df9e4f29a",
   "metadata": {
    "tags": []
   },
   "outputs": [
    {
     "name": "stdout",
     "output_type": "stream",
     "text": [
      "[[7. 7. 7.]\n",
      " [7. 7. 7.]\n",
      " [7. 7. 7.]]\n"
     ]
    }
   ],
   "source": [
    "# c = np.zeros((3,3), dtype = np.int64)\n",
    "c = np.zeros((3,3))\n",
    "c.fill(7) # It will fill entire array with value 7\n",
    "\n",
    "# Also we can easily perform mathematical operations on array.\n",
    "c += 3\n",
    "c -= 3\n",
    "c *= 3\n",
    "c /= 3\n",
    "# c /= 3 # This will thorw an error because our existing array if of int type and we are strictly commited to store only int not floating point numbers, that's why it is throwing an error\n",
    "print(c)"
   ]
  },
  {
   "cell_type": "code",
   "execution_count": 34,
   "id": "839610ff-237d-4fdf-adc1-4574b7c7c753",
   "metadata": {
    "tags": []
   },
   "outputs": [
    {
     "name": "stdout",
     "output_type": "stream",
     "text": [
      "[[1 2 3]\n",
      " [4 5 6]\n",
      " [7 8 9]] \n",
      "\n",
      "45\n"
     ]
    },
    {
     "data": {
      "text/plain": [
       "array([ 6, 15, 24])"
      ]
     },
     "execution_count": 34,
     "metadata": {},
     "output_type": "execute_result"
    }
   ],
   "source": [
    "# Arithmetic Methods\n",
    "d = np.arange(1,10).reshape(3,3)\n",
    "arr_sum = d.sum() # It will provide us the sum of entire array\n",
    "arr_row = d.sum(axis=1) # It will provide us the sum of entire rows of array\n",
    "print(d, '\\n')\n",
    "print(arr_sum)\n",
    "arr_row"
   ]
  },
  {
   "cell_type": "code",
   "execution_count": 37,
   "id": "34ee36ee-2c8e-4fc6-9f0c-7e4d28e5ca51",
   "metadata": {
    "tags": []
   },
   "outputs": [
    {
     "name": "stdout",
     "output_type": "stream",
     "text": [
      "512\n"
     ]
    }
   ],
   "source": [
    "arr_product = a.prod() # This will display the product of entire array\n",
    "print(arr_product)"
   ]
  },
  {
   "cell_type": "code",
   "execution_count": 40,
   "id": "50096c43-f8fb-4fc5-9df1-95f3c83db283",
   "metadata": {
    "tags": []
   },
   "outputs": [
    {
     "name": "stdout",
     "output_type": "stream",
     "text": [
      "5.0\n"
     ]
    }
   ],
   "source": [
    "arr_average = d.mean() # This will display the mean value from the array\n",
    "print(arr_average)"
   ]
  },
  {
   "cell_type": "code",
   "execution_count": 47,
   "id": "5f619bd7-0ea1-44fb-9a9a-d647fc5842ea",
   "metadata": {
    "tags": []
   },
   "outputs": [
    {
     "name": "stdout",
     "output_type": "stream",
     "text": [
      "9 1\n",
      "8 0\n",
      "8\n",
      "8\n"
     ]
    }
   ],
   "source": [
    "arr_max, arr_min = d.max(), d.min() # This will display the maximum and minimum value from the array\n",
    "print(arr_max, arr_min)\n",
    "\n",
    "# We can also find out the index of our maximum and minimum values by following method\n",
    "arr_max_idx, arr_min_idx = d.argmax(), d.argmin()\n",
    "print(arr_max_idx, arr_min_idx)\n",
    "\n",
    "# There's an another misterious method related to max and min values in array and this is known as peak to peak method\n",
    "peak_to_peak = d.ptp() # This is basically equals to 'd,amx() - d.min()', can verify it too\n",
    "val_diff = d.max() - d.min()\n",
    "print(peak_to_peak)\n",
    "print(val_diff)\n",
    "# Both the values will come out exactly the same"
   ]
  },
  {
   "cell_type": "code",
   "execution_count": 51,
   "id": "d7ab7441-ca7c-4c3e-b71b-e71004501568",
   "metadata": {
    "tags": []
   },
   "outputs": [
    {
     "name": "stdout",
     "output_type": "stream",
     "text": [
      "[1 2 3 4 5 6 7 8 9]\n",
      "[1 2 3 4 5 6 7 8 9]\n",
      "[1 2 3 4 5 6 7 8 9]\n"
     ]
    }
   ],
   "source": [
    "# Flatten arrays (it will create an one-dimensional array, there are several ways to perform this phenomena. So, see below\n",
    "flat_arr = d.reshape(d.size)\n",
    "flat_arr1 = d.flatten() # This basically creates an copy of original array\n",
    "flat_arr2 = d.ravel() # This will create an view of the original array\n",
    "print(flat_arr)\n",
    "print(flat_arr1)\n",
    "print(flat_arr2)\n",
    "# These are three different ways to perform such task."
   ]
  },
  {
   "cell_type": "code",
   "execution_count": 61,
   "id": "3c2c3e12-dc94-47c3-84b7-0119a7f6e7cd",
   "metadata": {
    "tags": []
   },
   "outputs": [
    {
     "name": "stdout",
     "output_type": "stream",
     "text": [
      "[[1 1 1 2 2 2 3 3 3]\n",
      " [4 4 4 5 5 5 6 6 6]\n",
      " [7 7 7 8 8 8 9 9 9]] \n",
      "\n",
      "[[1 2 3]\n",
      " [4 5 6]\n",
      " [7 8 9]] \n",
      "\n",
      "[1 5 9] \n",
      "\n",
      "[2 6]\n"
     ]
    }
   ],
   "source": [
    "# Repeat arrays\n",
    "arr_repeat = np.repeat(d, 3, axis = 1) # It will repeat all the values of array 'd' along the row\n",
    "print(arr_repeat, '\\n')\n",
    "\n",
    "# There is also an reverse phenomena for the same, called 'unique'\n",
    "arr_unique = np.unique(arr_repeat, axis = 1) # This will revert all the changes we've made or repeated values as before\n",
    "print(arr_unique, '\\n')\n",
    "\n",
    "# We can also have ease access of the diagonals of an entire array, see below.\n",
    "arr_diagonal = np.diagonal(d) \n",
    "arr_d1 = np.diagonal(d, offset = 1) # It will throw diagonal just above the main diagonal\n",
    "print(arr_diagonal, '\\n')\n",
    "print(arr_d1)"
   ]
  },
  {
   "cell_type": "code",
   "execution_count": 65,
   "id": "8803ed34-ee91-4545-8ab9-c46909bfda05",
   "metadata": {
    "tags": []
   },
   "outputs": [
    {
     "name": "stdout",
     "output_type": "stream",
     "text": [
      "[[1, 2, 3], [4, 5, 6], [7, 8, 9]]\n",
      "Type of my_list is:  <class 'list'>\n"
     ]
    }
   ],
   "source": [
    "# Conversion and Storage\n",
    "my_list = d.tolist()\n",
    "print(my_list)\n",
    "print(\"Type of my_list is: \", type(my_list)) # hence, succesfully converted into list"
   ]
  },
  {
   "cell_type": "code",
   "execution_count": 68,
   "id": "2edd637c-785d-437b-be87-7006a115b2b2",
   "metadata": {
    "tags": []
   },
   "outputs": [],
   "source": [
    "# We can store our array in a file, see below how it can be done\n",
    "d.tofile('my_array.txt', sep = ',') # It will create an external file and will store array 'd' in it"
   ]
  },
  {
   "cell_type": "code",
   "execution_count": 77,
   "id": "7b0732d1-9900-4ba6-a0b7-45b42233d5f5",
   "metadata": {
    "tags": []
   },
   "outputs": [
    {
     "name": "stdout",
     "output_type": "stream",
     "text": [
      "[[1 4 7]\n",
      " [2 5 8]\n",
      " [3 6 9]] \n",
      "\n",
      "[[1 4 7]\n",
      " [2 5 8]\n",
      " [3 6 9]] \n",
      "\n",
      "[[1 4 7]\n",
      " [2 5 8]\n",
      " [3 6 9]]\n"
     ]
    }
   ],
   "source": [
    "# Transpose, swapping rows with columns. There are several ways to do so, Let's have a look on it\n",
    "arr_swapped = np.swapaxes(d, 0, 1)\n",
    "print(arr_swapped, '\\n')\n",
    "\n",
    "arr_swapped1 = d.transpose(1, 0)\n",
    "print(arr_swapped1, '\\n')\n",
    "\n",
    "arr_swapped2 = d.T\n",
    "print(arr_swapped2)\n",
    "\n",
    "# Hence, transpose of arrays can easily be achieved by this method"
   ]
  },
  {
   "cell_type": "code",
   "execution_count": 102,
   "id": "c080c226-8a21-4108-b422-0b12349f26f2",
   "metadata": {
    "tags": []
   },
   "outputs": [
    {
     "name": "stdout",
     "output_type": "stream",
     "text": [
      "[[1 2 3]\n",
      " [4 5 6]\n",
      " [7 8 9]] \n",
      "\n",
      "[[1 2 3]\n",
      " [4 5 6]\n",
      " [7 8 9]] \n",
      "\n",
      "[[ 2  4  6]\n",
      " [ 8 10 12]\n",
      " [14 16 18]] \n",
      "\n",
      "[[-0.25 -0.5  -0.75]\n",
      " [-1.   -1.25 -1.5 ]\n",
      " [-1.75 -2.   -2.25]] \n",
      "\n",
      "[[1 0 1]\n",
      " [0 1 0]\n",
      " [1 0 1]] \n",
      "\n",
      "[[0 1 1]\n",
      " [2 2 3]\n",
      " [3 4 4]] \n",
      "\n",
      "[[0. 1. 1.]\n",
      " [2. 2. 3.]\n",
      " [3. 4. 4.]]\n"
     ]
    }
   ],
   "source": [
    "# Operations on 2 matrices or arrays\n",
    "e = np.arange(1,10).reshape(3,3)\n",
    "print(e, '\\n')\n",
    "\n",
    "f = np.arange(1,10).reshape(3,3)\n",
    "print(f, '\\n')\n",
    "\n",
    "arr_sum = e + f\n",
    "print(arr_sum, '\\n')\n",
    "\n",
    "# We can perform any sort of operation \n",
    "ops = (e + f - 3*e)/4\n",
    "print(ops, '\\n')\n",
    "\n",
    "modulo = e % a\n",
    "print(modulo, '\\n')\n",
    "\n",
    "floor_division = e // a # It will store the remainder in array but as a Integer data type\n",
    "print(floor_division, '\\n')\n",
    "\n",
    "floor_division1 = np.floor(e/a) # This will also work same as above ops does but this will return as Float data type\n",
    "print(floor_division1)"
   ]
  },
  {
   "cell_type": "code",
   "execution_count": 109,
   "id": "d9d45d91-1404-41a3-a821-f86b3952b0f4",
   "metadata": {
    "tags": []
   },
   "outputs": [
    {
     "name": "stdout",
     "output_type": "stream",
     "text": [
      "[[ 2  4  6]\n",
      " [ 8 10 12]\n",
      " [14 16 18]] \n",
      "\n",
      "[[24 30 36]\n",
      " [24 30 36]\n",
      " [24 30 36]] \n",
      "\n",
      "[[24 30 36]\n",
      " [24 30 36]\n",
      " [24 30 36]] \n",
      "\n",
      "[[24 30 36]\n",
      " [24 30 36]\n",
      " [24 30 36]]\n"
     ]
    }
   ],
   "source": [
    "# Matrix Multiplication\n",
    "arr_mult = a * b\n",
    "print(arr_mult, '\\n')\n",
    "\n",
    "# Above multiplication is multiplication of elements of matrices. So, if we want to perform complete matrics mulitplication we can done it in several ways, see below for more\n",
    "matrix_multiply = np.matmul(a,b)\n",
    "print(matrix_multiply, '\\n')\n",
    "\n",
    "matrix_multiply1 = a.dot(b)\n",
    "print(matrix_multiply1, '\\n')\n",
    "\n",
    "matrix_multiply2 = a @ b\n",
    "print(matrix_multiply2)\n",
    "\n",
    "# This is how matrix mulplication can be done"
   ]
  }
 ],
 "metadata": {
  "kernelspec": {
   "display_name": "Python 3 (ipykernel)",
   "language": "python",
   "name": "python3"
  },
  "language_info": {
   "codemirror_mode": {
    "name": "ipython",
    "version": 3
   },
   "file_extension": ".py",
   "mimetype": "text/x-python",
   "name": "python",
   "nbconvert_exporter": "python",
   "pygments_lexer": "ipython3",
   "version": "3.10.9"
  }
 },
 "nbformat": 4,
 "nbformat_minor": 5
}
